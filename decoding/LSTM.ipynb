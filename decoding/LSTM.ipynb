{
 "cells": [
  {
   "cell_type": "code",
   "execution_count": 3,
   "metadata": {},
   "outputs": [],
   "source": [
    "import torch\n",
    "import torch.nn as nn\n",
    "import torch.nn.functional as F\n",
    "from torch.optim import Adam\n",
    "\n",
    "# import lighting as L\n",
    "# from torch.utils.data import TensorDataset, DataLoader"
   ]
  },
  {
   "cell_type": "code",
   "execution_count": null,
   "metadata": {},
   "outputs": [],
   "source": [
    "class LSTMModel(nn.Module):\n",
    "        def __init__(self, input_size, hidden_size, num_layers, output_size):\n",
    "            super(LSTMModel, self).__init__()\n",
    "            self.hidden_size = hidden_size\n",
    "            self.num_layers = num_layers\n",
    "            self.lstm = nn.LSTM(input_size, hidden_size, num_layers, batch_first=True)\n",
    "            self.fc = nn.Linear(hidden_size, output_size)\n",
    "        \n",
    "        def forward(self, x):\n",
    "            h0 = torch.zeros(self.num_layers, x.size(0), self.hidden_size).to(device)\n",
    "            c0 = torch.zeros(self.num_layers, x.size(0), self.hidden_size).to(device)\n",
    "            out, _ = self.lstm(x, (h0, c0))\n",
    "            out = self.fc(out[:, -1, :])\n",
    "            return out"
   ]
  },
  {
   "cell_type": "code",
   "execution_count": null,
   "metadata": {},
   "outputs": [],
   "source": [
    "class LSTM(L.LightningModule):\n",
    "    def __init__(self):\n",
    "        # Create and initialize weight and bias tensors\n",
    "        super().__init__()\n",
    "        mean = torch.tensor(0.0)\n",
    "        std = torch.tensor(1.0)\n",
    "\n",
    "        self.wlr1 = nn.Parameter(torch.normal(mean=mean, std=std), require_grad = True)\n",
    "        self.wlr2 = nn.Parameter(torch.normal(mean=mean, std=std), require_grad = True)\n",
    "        self.blr1 = nn.Parameter(torch.tensor(0.), require_grad = True) \n",
    "\n",
    "        self.wpr1 = nn.Parameter(torch.normal(mean=mean, std=std), require_grad = True)\n",
    "        self.wpr2 = nn.Parameter(torch.normal(mean=mean, std=std), require_grad = True)\n",
    "        self.bpr1 = nn.Parameter(torch.tensor(0.), require_grad = True)\n",
    "\n",
    "        self.wp1 = nn.Parameter(torch.normal(mean=mean, std=std), require_grad = True)\n",
    "        self.wp2 = nn.Parameter(torch.normal(mean=mean, std=std), require_grad = True)\n",
    "        self.bp1 = nn.Parameter(torch.tensor(0.), require_grad = True)\n",
    "\n",
    "        self.wo1 = nn.Parameter(torch.normal(mean=mean, std=std), require_grad = True)\n",
    "        self.wo2 = nn.Parameter(torch.normal(mean=mean, std=std), require_grad = True)\n",
    "        self.bo1 = nn.Parameter(torch.tensor(0.), require_grad = True)\n",
    "    \n",
    "    def lstm_unit(self, input_value, long_memory, short_memory):\n",
    "        # Do the LSTM math\n",
    "        long_remember_percent = torch.sigmoid((short_memory*self.wlr1) + (input_value*self.wlr2) + self.blr1)\n",
    "\n",
    "        potential_remember_percent = torch.sigmoid((short_memory*self.wpr1) + (input_value*self.wpr2) + self.bpr1)\n",
    "        potential_memory = torch.tanh((short_memory*self.wp1) + (input_value*self.wp2) + self.bp1)\n",
    "\n",
    "        updated_long_memory = ((long_memory*long_remember_percent) + (potential_memory*potential_remember_percent))\n",
    "        output_percent = torch.sigmoid((short_memory*self.wo1) + (input_value*self.wo2) + self.bo1)\n",
    "\n",
    "        updated_short_memory = torch.tanh(updated_long_memory) * output_percent\n",
    "\n",
    "        return([updated_long_memory,updated_short_memory])\n",
    "\n",
    "    \n",
    "    def forward(self, input):\n",
    "        # Make a forward pass through the unrolled LSTM\n",
    "        for i in range(len(input.shape[1])):\n",
    "            long_memory, short_memory = self.lstm_unit(input[i], long_memory, short_memory)\n",
    "        \n",
    "        return short_memory\n",
    "    \n",
    "    def configure_optimizers(self):\n",
    "        return Adam(self.parameters())\n",
    "        \n",
    "    \n",
    "    def training_step(self, batch, batch_idx):\n",
    "        # Calculate loss and log training progress\n",
    "        input_i, label_i = batch\n",
    "        output_i = self.forward(input_i[0])\n",
    "        loss = (output_i - label_i)**2\n",
    "\n",
    "        self.log(\"train_loss\", loss)"
   ]
  }
 ],
 "metadata": {
  "kernelspec": {
   "display_name": "BCIS",
   "language": "python",
   "name": "python3"
  },
  "language_info": {
   "codemirror_mode": {
    "name": "ipython",
    "version": 3
   },
   "file_extension": ".py",
   "mimetype": "text/x-python",
   "name": "python",
   "nbconvert_exporter": "python",
   "pygments_lexer": "ipython3",
   "version": "3.11.4"
  },
  "orig_nbformat": 4
 },
 "nbformat": 4,
 "nbformat_minor": 2
}
